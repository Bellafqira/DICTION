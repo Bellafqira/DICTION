{
  "nbformat": 4,
  "nbformat_minor": 0,
  "metadata": {
    "colab": {
      "provenance": [],
      "include_colab_link": true
    },
    "kernelspec": {
      "name": "python3",
      "display_name": "Python 3"
    },
    "language_info": {
      "name": "python"
    }
  },
  "cells": [
    {
      "cell_type": "markdown",
      "metadata": {
        "id": "view-in-github",
        "colab_type": "text"
      },
      "source": [
        "<a href=\"https://colab.research.google.com/github/Bellafqira/DICTION/blob/master/TP_Paillier_correction.ipynb\" target=\"_parent\"><img src=\"https://colab.research.google.com/assets/colab-badge.svg\" alt=\"Open In Colab\"/></a>"
      ]
    },
    {
      "cell_type": "code",
      "execution_count": null,
      "metadata": {
        "colab": {
          "base_uri": "https://localhost:8080/"
        },
        "id": "S2zvCzx7iGqk",
        "outputId": "b43c0ad2-0dee-4bbf-c697-a993c2cfa65a"
      },
      "outputs": [
        {
          "output_type": "stream",
          "name": "stdout",
          "text": [
            "⏬ Downloading https://github.com/jaimergp/miniforge/releases/latest/download/Mambaforge-colab-Linux-x86_64.sh...\n",
            "📦 Installing...\n",
            "📌 Adjusting configuration...\n",
            "🩹 Patching environment...\n",
            "⏲ Done in 0:00:24\n",
            "🔁 Restarting kernel...\n",
            "Collecting package metadata (current_repodata.json): - \b\b\\ \b\b| \b\b/ \b\b- \b\b\\ \b\b| \b\b/ \b\b- \b\b\\ \b\b| \b\b/ \b\b- \b\b\\ \b\b| \b\b/ \b\b- \b\b\\ \b\b| \b\b/ \b\b- \b\b\\ \b\b| \b\b/ \b\b- \b\b\\ \b\b| \b\b/ \b\b- \b\b\\ \b\b| \b\b/ \b\b- \b\b\\ \b\b| \b\b/ \b\b- \b\b\\ \b\b| \b\b/ \b\b- \b\b\\ \b\b| \b\b/ \b\b- \b\b\\ \b\b| \b\b/ \b\b- \b\b\\ \b\b| \b\b/ \b\b- \b\b\\ \b\b| \b\b/ \b\b- \b\b\\ \b\b| \b\b/ \b\b- \b\b\\ \b\b| \b\b/ \b\b- \b\b\\ \b\b| \b\b/ \b\b- \b\b\\ \b\b| \b\b/ \b\b- \b\b\\ \b\b| \b\b/ \b\b- \b\b\\ \b\b| \b\b/ \b\b- \b\b\\ \b\b| \b\b/ \b\b- \b\b\\ \b\b| \b\b/ \b\b- \b\b\\ \b\b| \b\b/ \b\b- \b\b\\ \b\b| \b\b/ \b\b- \b\b\\ \b\b| \b\b/ \b\b- \b\b\\ \b\b| \b\b/ \b\b- \b\b\\ \b\b| \b\b/ \b\b- \b\b\\ \b\b| \b\b/ \b\b- \b\b\\ \b\b| \b\b/ \b\b- \b\b\\ \b\b| \b\b/ \b\b- \b\b\\ \b\b| \b\b/ \b\b- \b\b\\ \b\b| \b\b/ \b\b- \b\b\\ \b\b| \b\b/ \b\b- \b\b\\ \b\b| \b\b/ \b\b- \b\b\\ \b\b| \b\b/ \b\b- \b\b\\ \b\b| \b\b/ \b\b- \b\b\\ \b\b| \b\b/ \b\b- \b\b\\ \b\b| \b\b/ \b\b- \b\b\\ \b\b| \b\b/ \b\b- \b\bdone\n",
            "Solving environment: | \b\b/ \b\b- \b\b\\ \b\b| \b\b/ \b\b- \b\b\\ \b\b| \b\b/ \b\b- \b\b\\ \b\bdone\n",
            "\n",
            "## Package Plan ##\n",
            "\n",
            "  environment location: /usr/local\n",
            "\n",
            "  added / updated specs:\n",
            "    - gmpy2\n",
            "\n",
            "\n",
            "The following packages will be downloaded:\n",
            "\n",
            "    package                    |            build\n",
            "    ---------------------------|-----------------\n",
            "    ca-certificates-2022.12.7  |       ha878542_0         143 KB  conda-forge\n",
            "    certifi-2022.12.7          |     pyhd8ed1ab_0         147 KB  conda-forge\n",
            "    colorama-0.4.6             |     pyhd8ed1ab_0          25 KB  conda-forge\n",
            "    conda-22.11.1              |   py38h578d9bd_1         905 KB  conda-forge\n",
            "    gmp-6.2.1                  |       h58526e2_0         806 KB  conda-forge\n",
            "    gmpy2-2.1.2                |   py38h793c122_1         223 KB  conda-forge\n",
            "    mpc-1.3.1                  |       hfe3b2da_0         114 KB  conda-forge\n",
            "    mpfr-4.1.0                 |       h9202a9a_1         2.6 MB  conda-forge\n",
            "    openssl-3.0.8              |       h0b41bf4_0         2.5 MB  conda-forge\n",
            "    pluggy-1.0.0               |     pyhd8ed1ab_5          16 KB  conda-forge\n",
            "    ruamel.yaml-0.17.21        |   py38h0a891b7_2         172 KB  conda-forge\n",
            "    ruamel.yaml.clib-0.2.7     |   py38h1de0b5d_1         143 KB  conda-forge\n",
            "    tqdm-4.64.1                |     pyhd8ed1ab_0          82 KB  conda-forge\n",
            "    ------------------------------------------------------------\n",
            "                                           Total:         7.8 MB\n",
            "\n",
            "The following NEW packages will be INSTALLED:\n",
            "\n",
            "  colorama           conda-forge/noarch::colorama-0.4.6-pyhd8ed1ab_0 None\n",
            "  gmp                conda-forge/linux-64::gmp-6.2.1-h58526e2_0 None\n",
            "  gmpy2              conda-forge/linux-64::gmpy2-2.1.2-py38h793c122_1 None\n",
            "  mpc                conda-forge/linux-64::mpc-1.3.1-hfe3b2da_0 None\n",
            "  mpfr               conda-forge/linux-64::mpfr-4.1.0-h9202a9a_1 None\n",
            "  pluggy             conda-forge/noarch::pluggy-1.0.0-pyhd8ed1ab_5 None\n",
            "  ruamel.yaml        conda-forge/linux-64::ruamel.yaml-0.17.21-py38h0a891b7_2 None\n",
            "  ruamel.yaml.clib   conda-forge/linux-64::ruamel.yaml.clib-0.2.7-py38h1de0b5d_1 None\n",
            "  tqdm               conda-forge/noarch::tqdm-4.64.1-pyhd8ed1ab_0 None\n",
            "\n",
            "The following packages will be UPDATED:\n",
            "\n",
            "  ca-certificates                      2022.9.24-ha878542_0 --> 2022.12.7-ha878542_0 None\n",
            "  certifi                            2022.9.24-pyhd8ed1ab_0 --> 2022.12.7-pyhd8ed1ab_0 None\n",
            "  conda                               22.9.0-py38h578d9bd_2 --> 22.11.1-py38h578d9bd_1 None\n",
            "  openssl                                  3.0.7-h0b41bf4_1 --> 3.0.8-h0b41bf4_0 None\n",
            "\n",
            "\n",
            "\n",
            "Downloading and Extracting Packages\n",
            "mpc-1.3.1            | 114 KB    | : 100% 1.0/1 [00:00<00:00,  6.54it/s]                \n",
            "mpfr-4.1.0           | 2.6 MB    | : 100% 1.0/1 [00:00<00:00,  1.65it/s]\n",
            "openssl-3.0.8        | 2.5 MB    | : 100% 1.0/1 [00:00<00:00,  6.20it/s]\n",
            "colorama-0.4.6       | 25 KB     | : 100% 1.0/1 [00:00<00:00, 16.30it/s]\n",
            "pluggy-1.0.0         | 16 KB     | : 100% 1.0/1 [00:00<00:00, 14.77it/s]\n",
            "ruamel.yaml.clib-0.2 | 143 KB    | : 100% 1.0/1 [00:00<00:00, 16.77it/s]\n",
            "conda-22.11.1        | 905 KB    | : 100% 1.0/1 [00:00<00:00,  4.50it/s]\n",
            "tqdm-4.64.1          | 82 KB     | : 100% 1.0/1 [00:00<00:00, 13.11it/s]\n",
            "ca-certificates-2022 | 143 KB    | : 100% 1.0/1 [00:00<00:00, 21.47it/s]\n",
            "certifi-2022.12.7    | 147 KB    | : 100% 1.0/1 [00:00<00:00, 17.96it/s]\n",
            "gmpy2-2.1.2          | 223 KB    | : 100% 1.0/1 [00:00<00:00, 10.35it/s]\n",
            "ruamel.yaml-0.17.21  | 172 KB    | : 100% 1.0/1 [00:00<00:00,  8.51it/s]\n",
            "gmp-6.2.1            | 806 KB    | : 100% 1.0/1 [00:00<00:00,  4.28it/s]\n",
            "Preparing transaction: / \b\bdone\n",
            "Verifying transaction: \\ \b\b| \b\bdone\n",
            "Executing transaction: - \b\b\\ \b\b| \b\b/ \b\b- \b\b\\ \b\b| \b\b/ \b\b- \b\b\\ \b\b| \b\b/ \b\b- \b\b\\ \b\b| \b\b/ \b\b- \b\bdone\n",
            "Retrieving notices: ...working... done\n"
          ]
        }
      ],
      "source": [
        "# Instalation de conda et Gmpy2\n",
        "!pip install -q condacolab\n",
        "import condacolab\n",
        "condacolab.install()\n",
        "!conda install -c conda-forge gmpy2"
      ]
    },
    {
      "cell_type": "code",
      "source": [
        "# import Packages\n",
        "from gmpy2 import root, mpfr, cbrt, sqrt, c_div, is_prime, random_state, mpz_urandomb, bit_set, next_prime, bit_length, num_digits, mpz_random, gcd, invert, powmod, mpz, is_prime\n",
        "import time\n",
        "import random"
      ],
      "metadata": {
        "id": "IoKKPIxvjPiX"
      },
      "execution_count": null,
      "outputs": []
    },
    {
      "cell_type": "markdown",
      "source": [
        "### Génération de nombres premiers"
      ],
      "metadata": {
        "id": "fmKPKiZDjt8O"
      }
    },
    {
      "cell_type": "code",
      "source": [
        "def get_prime(size): # size la taille en binaire\n",
        "    seed = random_state(time.time_ns())\n",
        "    p = mpz_urandomb(seed ,size)\n",
        "    p = p.bit_set(size - 1)\n",
        "    return next_prime(p)"
      ],
      "metadata": {
        "id": "SYlFEtygjxLx"
      },
      "execution_count": null,
      "outputs": []
    },
    {
      "cell_type": "markdown",
      "source": [
        "### Génération de clé publique et privée de El Gamal"
      ],
      "metadata": {
        "id": "22y3lqCOjWpw"
      }
    },
    {
      "cell_type": "code",
      "source": [
        "def get_paillier_keys(size):\n",
        "    p = get_prime(size//2)\n",
        "    while True:\n",
        "        q = get_prime(size//2)\n",
        "        N =  p*q\n",
        "        phi = (p-1)*(q-1)\n",
        "        if gcd(N, phi)== 1 and p!=q:\n",
        "            break\n",
        "    g = 1 + N\n",
        "    pub_key = N, g\n",
        "    priv_key = phi, max(p,q), min(p,q)\n",
        "    return pub_key, priv_key"
      ],
      "metadata": {
        "id": "rflhuoI9jXbY"
      },
      "execution_count": null,
      "outputs": []
    },
    {
      "cell_type": "code",
      "source": [
        "# Test\n",
        "pub_key, priv_key  = get_paillier_keys(512)\n",
        "print(\"N==\", pub_key[0])\n",
        "print(\"g==\", pub_key[1])\n",
        "print(\"phi==\", priv_key[0])\n",
        "print(\"p==\", priv_key[1])\n",
        "print(\"q==\", priv_key[2])"
      ],
      "metadata": {
        "colab": {
          "base_uri": "https://localhost:8080/"
        },
        "id": "dVjwL4nPjbKA",
        "outputId": "29bb4a9e-4544-4bff-be4a-8c6e6c8d1249"
      },
      "execution_count": null,
      "outputs": [
        {
          "output_type": "stream",
          "name": "stdout",
          "text": [
            "N== 7109957788711517455864394470904371183022728013619609915324934706989880549927393573428801830391839492224387171671888082463122660662632531795323774019909059\n",
            "g== 7109957788711517455864394470904371183022728013619609915324934706989880549927393573428801830391839492224387171671888082463122660662632531795323774019909060\n",
            "phi== 7109957788711517455864394470904371183022728013619609915324934706989880549927224924894557351016630578202452967419876674226582293389281478486682042985890280\n",
            "p== 85114353820846663386895193943636157088210693380122854363292621015092627489711\n",
            "q== 83534180423632711822018827990568094923197543160244418987760687626638406529069\n"
          ]
        }
      ]
    },
    {
      "cell_type": "markdown",
      "source": [
        "### Fonctions de chiffrement et de déchiffrement"
      ],
      "metadata": {
        "id": "SbszkdaMkC-Y"
      }
    },
    {
      "cell_type": "code",
      "source": [
        "def get_r(pub_key):\n",
        "    while True:\n",
        "        seed = random_state(time.time_ns())\n",
        "        r = mpz_random(seed, pub_key)\n",
        "        if gcd(r, pub_key)== 1:\n",
        "            break\n",
        "    return r\n",
        "\n",
        "def paillier_encrypt(message, pub_key):\n",
        "    # get random value r\n",
        "    r = get_r(pub_key[0])\n",
        "    # encrypt the message\n",
        "    N2 = pub_key[0] ** 2\n",
        "    r = powmod(r, pub_key[0], N2)\n",
        "    c = powmod(pub_key[1], message, N2)\n",
        "    c = c*r % N2\n",
        "    return c\n",
        "\n",
        "def paillier_decrypt(enc, priv_key, pub_key):\n",
        "    N2 = pub_key ** 2\n",
        "    phiInv = invert(priv_key, pub_key)\n",
        "    m = powmod(enc, priv_key, N2)\n",
        "    m = m - 1\n",
        "    m = m//pub_key\n",
        "    m = m * phiInv % pub_key\n",
        "    return m\n",
        "\n",
        "def paillier_decrypt_CRT(enc, priv_key, pub_key):\n",
        "    xp = powmod(enc, priv_key[0], priv_key[1]**2)\n",
        "    xq = powmod(enc, priv_key[0], priv_key[2]**2)\n",
        "    Invq = invert(priv_key[2]**2, priv_key[1]**2)\n",
        "    x = ((Invq*(xp-xq))% priv_key[1]**2)*priv_key[2]**2 +  xq\n",
        "    m = ((x-1)//pub_key[0]*invert(priv_key[0], pub_key[0])) % pub_key[0]\n",
        "    return m"
      ],
      "metadata": {
        "id": "zNsHAixpkD4_"
      },
      "execution_count": null,
      "outputs": []
    },
    {
      "cell_type": "code",
      "source": [
        "# Test\n",
        "message = mpz(102132100)\n",
        "print(\"clear message = \", message)\n",
        "enc = paillier_encrypt(message, pub_key)\n",
        "print(\"encrypted message = \", enc)\n",
        "m = paillier_decrypt(enc, priv_key[0], pub_key[0])\n",
        "print(\"decrypted message = \", m)\n",
        "m_crt = paillier_decrypt_CRT(enc, priv_key, pub_key)\n",
        "print(\"decrypted message by CRT = \", m)"
      ],
      "metadata": {
        "colab": {
          "base_uri": "https://localhost:8080/"
        },
        "id": "QurBvkdnkJFU",
        "outputId": "aee5d78d-2341-4e0e-bc96-02f2a03afa39"
      },
      "execution_count": null,
      "outputs": [
        {
          "output_type": "stream",
          "name": "stdout",
          "text": [
            "clear message =  102132100\n",
            "encrypted message =  20127269663940869913124271485218848363216261539492908601281218041861669382904284304002525532870805473590450741650323216434701596147068027139203458375489592868610337178515491374247640394298676735594126070944537111486805694062182593178723795702296386632140359769326200945694927544842955991631217184741611767071\n",
            "decrypted message =  102132100\n",
            "decrypted message by CRT =  102132100\n"
          ]
        }
      ]
    }
  ]
}